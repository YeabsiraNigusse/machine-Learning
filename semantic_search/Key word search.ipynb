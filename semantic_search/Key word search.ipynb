{
 "cells": [
  {
   "cell_type": "markdown",
   "id": "caa61f1d",
   "metadata": {},
   "source": [
    "# Making searching better by using LLM(Large Language Models)"
   ]
  },
  {
   "cell_type": "markdown",
   "id": "9c524e06",
   "metadata": {},
   "source": [
    "### Key Word Search"
   ]
  },
  {
   "cell_type": "markdown",
   "id": "42284dd5",
   "metadata": {},
   "source": [
    "### Setup\n",
    "Load needed API keys and relevant Python libaries."
   ]
  },
  {
   "cell_type": "code",
   "execution_count": 1,
   "id": "9abe20fc",
   "metadata": {},
   "outputs": [
    {
     "name": "stdout",
     "output_type": "stream",
     "text": [
      "Requirement already satisfied: cohere in c:\\users\\nigus\\anaconda3\\lib\\site-packages (4.21)\n",
      "Requirement already satisfied: importlib_metadata<7.0,>=6.0 in c:\\users\\nigus\\anaconda3\\lib\\site-packages (from cohere) (6.8.0)\n",
      "Requirement already satisfied: requests<3.0.0,>=2.25.0 in c:\\users\\nigus\\anaconda3\\lib\\site-packages (from cohere) (2.31.0)\n",
      "Requirement already satisfied: aiohttp<4.0,>=3.0 in c:\\users\\nigus\\anaconda3\\lib\\site-packages (from cohere) (3.8.1)\n",
      "Requirement already satisfied: fastavro==1.8.2 in c:\\users\\nigus\\anaconda3\\lib\\site-packages (from cohere) (1.8.2)\n",
      "Requirement already satisfied: backoff<3.0,>=2.0 in c:\\users\\nigus\\anaconda3\\lib\\site-packages (from cohere) (2.2.1)\n",
      "Requirement already satisfied: urllib3<3,>=1.26 in c:\\users\\nigus\\anaconda3\\lib\\site-packages (from cohere) (1.26.9)\n",
      "Requirement already satisfied: multidict<7.0,>=4.5 in c:\\users\\nigus\\anaconda3\\lib\\site-packages (from aiohttp<4.0,>=3.0->cohere) (5.1.0)\n",
      "Requirement already satisfied: yarl<2.0,>=1.0 in c:\\users\\nigus\\anaconda3\\lib\\site-packages (from aiohttp<4.0,>=3.0->cohere) (1.6.3)\n",
      "Requirement already satisfied: attrs>=17.3.0 in c:\\users\\nigus\\anaconda3\\lib\\site-packages (from aiohttp<4.0,>=3.0->cohere) (21.4.0)\n",
      "Requirement already satisfied: async-timeout<5.0,>=4.0.0a3 in c:\\users\\nigus\\anaconda3\\lib\\site-packages (from aiohttp<4.0,>=3.0->cohere) (4.0.1)\n",
      "Requirement already satisfied: frozenlist>=1.1.1 in c:\\users\\nigus\\anaconda3\\lib\\site-packages (from aiohttp<4.0,>=3.0->cohere) (1.2.0)\n",
      "Requirement already satisfied: aiosignal>=1.1.2 in c:\\users\\nigus\\anaconda3\\lib\\site-packages (from aiohttp<4.0,>=3.0->cohere) (1.2.0)\n",
      "Requirement already satisfied: charset-normalizer<3.0,>=2.0 in c:\\users\\nigus\\anaconda3\\lib\\site-packages (from aiohttp<4.0,>=3.0->cohere) (2.0.4)\n",
      "Requirement already satisfied: typing-extensions>=3.6.5 in c:\\users\\nigus\\anaconda3\\lib\\site-packages (from async-timeout<5.0,>=4.0.0a3->aiohttp<4.0,>=3.0->cohere) (4.1.1)\n",
      "Requirement already satisfied: zipp>=0.5 in c:\\users\\nigus\\anaconda3\\lib\\site-packages (from importlib_metadata<7.0,>=6.0->cohere) (3.7.0)\n",
      "Requirement already satisfied: certifi>=2017.4.17 in c:\\users\\nigus\\anaconda3\\lib\\site-packages (from requests<3.0.0,>=2.25.0->cohere) (2021.10.8)\n",
      "Requirement already satisfied: idna<4,>=2.5 in c:\\users\\nigus\\anaconda3\\lib\\site-packages (from requests<3.0.0,>=2.25.0->cohere) (3.3)\n",
      "Requirement already satisfied: weaviate-client in c:\\users\\nigus\\anaconda3\\lib\\site-packages (3.23.0)\n",
      "Requirement already satisfied: validators<=0.21.0,>=0.18.2 in c:\\users\\nigus\\anaconda3\\lib\\site-packages (from weaviate-client) (0.21.0)\n",
      "Requirement already satisfied: requests<=2.31.0,>=2.28.0 in c:\\users\\nigus\\anaconda3\\lib\\site-packages (from weaviate-client) (2.31.0)\n",
      "Requirement already satisfied: authlib>=1.1.0 in c:\\users\\nigus\\anaconda3\\lib\\site-packages (from weaviate-client) (1.2.1)\n",
      "Requirement already satisfied: tqdm<5.0.0,>=4.59.0 in c:\\users\\nigus\\anaconda3\\lib\\site-packages (from weaviate-client) (4.64.0)\n",
      "Requirement already satisfied: cryptography>=3.2 in c:\\users\\nigus\\anaconda3\\lib\\site-packages (from authlib>=1.1.0->weaviate-client) (3.4.8)\n",
      "Requirement already satisfied: cffi>=1.12 in c:\\users\\nigus\\anaconda3\\lib\\site-packages (from cryptography>=3.2->authlib>=1.1.0->weaviate-client) (1.15.0)\n",
      "Requirement already satisfied: pycparser in c:\\users\\nigus\\anaconda3\\lib\\site-packages (from cffi>=1.12->cryptography>=3.2->authlib>=1.1.0->weaviate-client) (2.21)\n",
      "Requirement already satisfied: idna<4,>=2.5 in c:\\users\\nigus\\anaconda3\\lib\\site-packages (from requests<=2.31.0,>=2.28.0->weaviate-client) (3.3)\n",
      "Requirement already satisfied: certifi>=2017.4.17 in c:\\users\\nigus\\anaconda3\\lib\\site-packages (from requests<=2.31.0,>=2.28.0->weaviate-client) (2021.10.8)\n",
      "Requirement already satisfied: charset-normalizer<4,>=2 in c:\\users\\nigus\\anaconda3\\lib\\site-packages (from requests<=2.31.0,>=2.28.0->weaviate-client) (2.0.4)\n",
      "Requirement already satisfied: urllib3<3,>=1.21.1 in c:\\users\\nigus\\anaconda3\\lib\\site-packages (from requests<=2.31.0,>=2.28.0->weaviate-client) (1.26.9)\n",
      "Requirement already satisfied: colorama in c:\\users\\nigus\\anaconda3\\lib\\site-packages (from tqdm<5.0.0,>=4.59.0->weaviate-client) (0.4.4)\n",
      "Requirement already satisfied: python-dotenv in c:\\users\\nigus\\anaconda3\\lib\\site-packages (1.0.0)\n",
      "Requirement already satisfied: umap-learn in c:\\users\\nigus\\anaconda3\\lib\\site-packages (0.5.3)\n",
      "Requirement already satisfied: scikit-learn>=0.22 in c:\\users\\nigus\\anaconda3\\lib\\site-packages (from umap-learn) (1.0.2)\n",
      "Requirement already satisfied: numpy>=1.17 in c:\\users\\nigus\\anaconda3\\lib\\site-packages (from umap-learn) (1.21.5)\n",
      "Requirement already satisfied: scipy>=1.0 in c:\\users\\nigus\\anaconda3\\lib\\site-packages (from umap-learn) (1.7.3)\n",
      "Requirement already satisfied: pynndescent>=0.5 in c:\\users\\nigus\\anaconda3\\lib\\site-packages (from umap-learn) (0.5.10)\n",
      "Requirement already satisfied: numba>=0.49 in c:\\users\\nigus\\anaconda3\\lib\\site-packages (from umap-learn) (0.55.1)\n",
      "Requirement already satisfied: tqdm in c:\\users\\nigus\\anaconda3\\lib\\site-packages (from umap-learn) (4.64.0)\n",
      "Requirement already satisfied: setuptools in c:\\users\\nigus\\anaconda3\\lib\\site-packages (from numba>=0.49->umap-learn) (61.2.0)\n",
      "Requirement already satisfied: llvmlite<0.39,>=0.38.0rc1 in c:\\users\\nigus\\anaconda3\\lib\\site-packages (from numba>=0.49->umap-learn) (0.38.0)\n",
      "Requirement already satisfied: joblib>=0.11 in c:\\users\\nigus\\anaconda3\\lib\\site-packages (from pynndescent>=0.5->umap-learn) (1.1.0)\n",
      "Requirement already satisfied: threadpoolctl>=2.0.0 in c:\\users\\nigus\\anaconda3\\lib\\site-packages (from scikit-learn>=0.22->umap-learn) (2.2.0)\n",
      "Requirement already satisfied: colorama in c:\\users\\nigus\\anaconda3\\lib\\site-packages (from tqdm->umap-learn) (0.4.4)\n"
     ]
    }
   ],
   "source": [
    " !pip install cohere\n",
    " !pip install weaviate-client\n",
    " !pip install python-dotenv\n",
    " !pip install umap-learn"
   ]
  },
  {
   "cell_type": "markdown",
   "id": "586b67f0",
   "metadata": {},
   "source": [
    "Let's start by imporing Weaviate to access the Wikipedia database."
   ]
  },
  {
   "cell_type": "markdown",
   "id": "85179cd0",
   "metadata": {},
   "source": [
    "Weaviate is open source database that have keyword and vector search cababilities that rely on language models."
   ]
  },
  {
   "cell_type": "code",
   "execution_count": 21,
   "id": "0eacb011",
   "metadata": {},
   "outputs": [],
   "source": [
    "# the api key helps to connect with weaviate database. its like my home key\n",
    "import weaviate\n",
    "auth_config = weaviate.auth.AuthApiKey(\n",
    "    api_key='76320a90-53d8-42bc-b4cd-678647c6672e'\n",
    ")"
   ]
  },
  {
   "cell_type": "code",
   "execution_count": null,
   "id": "bbb88988",
   "metadata": {},
   "outputs": [],
   "source": []
  },
  {
   "cell_type": "code",
   "execution_count": 23,
   "id": "76a552d9",
   "metadata": {},
   "outputs": [
    {
     "ename": "UnexpectedStatusCodeException",
     "evalue": "Meta endpoint! Unexpected status code: 401, with response body: {'code': 401, 'message': 'invalid api key, please provide a valid api key'}.",
     "output_type": "error",
     "traceback": [
      "\u001b[1;31m---------------------------------------------------------------------------\u001b[0m",
      "\u001b[1;31mUnexpectedStatusCodeException\u001b[0m             Traceback (most recent call last)",
      "Input \u001b[1;32mIn [23]\u001b[0m, in \u001b[0;36m<cell line: 1>\u001b[1;34m()\u001b[0m\n\u001b[1;32m----> 1\u001b[0m client \u001b[38;5;241m=\u001b[39m \u001b[43mweaviate\u001b[49m\u001b[38;5;241;43m.\u001b[39;49m\u001b[43mClient\u001b[49m\u001b[43m(\u001b[49m\n\u001b[0;32m      2\u001b[0m \u001b[43m    \u001b[49m\u001b[43murl\u001b[49m\u001b[38;5;241;43m=\u001b[39;49m\u001b[43m \u001b[49m\u001b[38;5;124;43m'\u001b[39;49m\u001b[38;5;124;43mhttps://cohere-demo.weaviate.network\u001b[39;49m\u001b[38;5;124;43m'\u001b[39;49m\u001b[43m,\u001b[49m\n\u001b[0;32m      3\u001b[0m \u001b[43m    \u001b[49m\u001b[43mauth_client_secret\u001b[49m\u001b[38;5;241;43m=\u001b[39;49m\u001b[43mauth_config\u001b[49m\u001b[43m,\u001b[49m\n\u001b[0;32m      4\u001b[0m \u001b[43m    \u001b[49m\u001b[43madditional_headers\u001b[49m\u001b[38;5;241;43m=\u001b[39;49m\u001b[43m{\u001b[49m\n\u001b[0;32m      5\u001b[0m \u001b[43m        \u001b[49m\u001b[38;5;124;43m\"\u001b[39;49m\u001b[38;5;124;43mX-Cohere-Api-Key\u001b[39;49m\u001b[38;5;124;43m\"\u001b[39;49m\u001b[43m:\u001b[49m\u001b[38;5;124;43m'\u001b[39;49m\u001b[38;5;124;43mugFJXG6voNWkQ35qwSi13dwk5ba8kSxgfUZ2UEoI\u001b[39;49m\u001b[38;5;124;43m'\u001b[39;49m\u001b[43m,\u001b[49m\n\u001b[0;32m      6\u001b[0m \u001b[43m    \u001b[49m\u001b[43m}\u001b[49m\n\u001b[0;32m      7\u001b[0m \u001b[43m)\u001b[49m\n",
      "File \u001b[1;32m~\\anaconda3\\lib\\site-packages\\weaviate\\client.py:150\u001b[0m, in \u001b[0;36mClient.__init__\u001b[1;34m(self, url, auth_client_secret, timeout_config, proxies, trust_env, additional_headers, startup_period, embedded_options, additional_config)\u001b[0m\n\u001b[0;32m    147\u001b[0m url, embedded_db \u001b[38;5;241m=\u001b[39m \u001b[38;5;28mself\u001b[39m\u001b[38;5;241m.\u001b[39m__parse_url_and_embedded_db(url, embedded_options)\n\u001b[0;32m    148\u001b[0m config \u001b[38;5;241m=\u001b[39m Config() \u001b[38;5;28;01mif\u001b[39;00m additional_config \u001b[38;5;129;01mis\u001b[39;00m \u001b[38;5;28;01mNone\u001b[39;00m \u001b[38;5;28;01melse\u001b[39;00m additional_config\n\u001b[1;32m--> 150\u001b[0m \u001b[38;5;28mself\u001b[39m\u001b[38;5;241m.\u001b[39m_connection \u001b[38;5;241m=\u001b[39m \u001b[43mConnection\u001b[49m\u001b[43m(\u001b[49m\n\u001b[0;32m    151\u001b[0m \u001b[43m    \u001b[49m\u001b[43murl\u001b[49m\u001b[38;5;241;43m=\u001b[39;49m\u001b[43murl\u001b[49m\u001b[43m,\u001b[49m\n\u001b[0;32m    152\u001b[0m \u001b[43m    \u001b[49m\u001b[43mauth_client_secret\u001b[49m\u001b[38;5;241;43m=\u001b[39;49m\u001b[43mauth_client_secret\u001b[49m\u001b[43m,\u001b[49m\n\u001b[0;32m    153\u001b[0m \u001b[43m    \u001b[49m\u001b[43mtimeout_config\u001b[49m\u001b[38;5;241;43m=\u001b[39;49m\u001b[43m_get_valid_timeout_config\u001b[49m\u001b[43m(\u001b[49m\u001b[43mtimeout_config\u001b[49m\u001b[43m)\u001b[49m\u001b[43m,\u001b[49m\n\u001b[0;32m    154\u001b[0m \u001b[43m    \u001b[49m\u001b[43mproxies\u001b[49m\u001b[38;5;241;43m=\u001b[39;49m\u001b[43mproxies\u001b[49m\u001b[43m,\u001b[49m\n\u001b[0;32m    155\u001b[0m \u001b[43m    \u001b[49m\u001b[43mtrust_env\u001b[49m\u001b[38;5;241;43m=\u001b[39;49m\u001b[43mtrust_env\u001b[49m\u001b[43m,\u001b[49m\n\u001b[0;32m    156\u001b[0m \u001b[43m    \u001b[49m\u001b[43madditional_headers\u001b[49m\u001b[38;5;241;43m=\u001b[39;49m\u001b[43madditional_headers\u001b[49m\u001b[43m,\u001b[49m\n\u001b[0;32m    157\u001b[0m \u001b[43m    \u001b[49m\u001b[43mstartup_period\u001b[49m\u001b[38;5;241;43m=\u001b[39;49m\u001b[43mstartup_period\u001b[49m\u001b[43m,\u001b[49m\n\u001b[0;32m    158\u001b[0m \u001b[43m    \u001b[49m\u001b[43membedded_db\u001b[49m\u001b[38;5;241;43m=\u001b[39;49m\u001b[43membedded_db\u001b[49m\u001b[43m,\u001b[49m\n\u001b[0;32m    159\u001b[0m \u001b[43m    \u001b[49m\u001b[43mgrcp_port\u001b[49m\u001b[38;5;241;43m=\u001b[39;49m\u001b[43mconfig\u001b[49m\u001b[38;5;241;43m.\u001b[39;49m\u001b[43mgrpc_port_experimental\u001b[49m\u001b[43m,\u001b[49m\n\u001b[0;32m    160\u001b[0m \u001b[43m    \u001b[49m\u001b[43mconnection_config\u001b[49m\u001b[38;5;241;43m=\u001b[39;49m\u001b[43mconfig\u001b[49m\u001b[38;5;241;43m.\u001b[39;49m\u001b[43mconnection_config\u001b[49m\u001b[43m,\u001b[49m\n\u001b[0;32m    161\u001b[0m \u001b[43m\u001b[49m\u001b[43m)\u001b[49m\n\u001b[0;32m    162\u001b[0m \u001b[38;5;28mself\u001b[39m\u001b[38;5;241m.\u001b[39mclassification \u001b[38;5;241m=\u001b[39m Classification(\u001b[38;5;28mself\u001b[39m\u001b[38;5;241m.\u001b[39m_connection)\n\u001b[0;32m    163\u001b[0m \u001b[38;5;28mself\u001b[39m\u001b[38;5;241m.\u001b[39mschema \u001b[38;5;241m=\u001b[39m Schema(\u001b[38;5;28mself\u001b[39m\u001b[38;5;241m.\u001b[39m_connection)\n",
      "File \u001b[1;32m~\\anaconda3\\lib\\site-packages\\weaviate\\connect\\connection.py:662\u001b[0m, in \u001b[0;36mConnection.__init__\u001b[1;34m(self, url, auth_client_secret, timeout_config, proxies, trust_env, additional_headers, startup_period, connection_config, embedded_db, grcp_port)\u001b[0m\n\u001b[0;32m    637\u001b[0m \u001b[38;5;28;01mdef\u001b[39;00m \u001b[38;5;21m__init__\u001b[39m(\n\u001b[0;32m    638\u001b[0m     \u001b[38;5;28mself\u001b[39m,\n\u001b[0;32m    639\u001b[0m     url: \u001b[38;5;28mstr\u001b[39m,\n\u001b[1;32m   (...)\u001b[0m\n\u001b[0;32m    648\u001b[0m     grcp_port: Optional[\u001b[38;5;28mint\u001b[39m] \u001b[38;5;241m=\u001b[39m \u001b[38;5;28;01mNone\u001b[39;00m,\n\u001b[0;32m    649\u001b[0m ):\n\u001b[0;32m    650\u001b[0m     \u001b[38;5;28msuper\u001b[39m()\u001b[38;5;241m.\u001b[39m\u001b[38;5;21m__init__\u001b[39m(\n\u001b[0;32m    651\u001b[0m         url,\n\u001b[0;32m    652\u001b[0m         auth_client_secret,\n\u001b[1;32m   (...)\u001b[0m\n\u001b[0;32m    660\u001b[0m         grcp_port,\n\u001b[0;32m    661\u001b[0m     )\n\u001b[1;32m--> 662\u001b[0m     \u001b[38;5;28mself\u001b[39m\u001b[38;5;241m.\u001b[39m_server_version \u001b[38;5;241m=\u001b[39m \u001b[38;5;28;43mself\u001b[39;49m\u001b[38;5;241;43m.\u001b[39;49m\u001b[43mget_meta\u001b[49m\u001b[43m(\u001b[49m\u001b[43m)\u001b[49m[\u001b[38;5;124m\"\u001b[39m\u001b[38;5;124mversion\u001b[39m\u001b[38;5;124m\"\u001b[39m]\n\u001b[0;32m    663\u001b[0m     \u001b[38;5;28;01mif\u001b[39;00m \u001b[38;5;28mself\u001b[39m\u001b[38;5;241m.\u001b[39m_server_version \u001b[38;5;241m<\u001b[39m \u001b[38;5;124m\"\u001b[39m\u001b[38;5;124m1.14\u001b[39m\u001b[38;5;124m\"\u001b[39m:\n\u001b[0;32m    664\u001b[0m         _Warnings\u001b[38;5;241m.\u001b[39mweaviate_server_older_than_1_14(\u001b[38;5;28mself\u001b[39m\u001b[38;5;241m.\u001b[39m_server_version)\n",
      "File \u001b[1;32m~\\anaconda3\\lib\\site-packages\\weaviate\\connect\\connection.py:695\u001b[0m, in \u001b[0;36mConnection.get_meta\u001b[1;34m(self)\u001b[0m\n\u001b[0;32m    693\u001b[0m \u001b[38;5;28;01mif\u001b[39;00m response\u001b[38;5;241m.\u001b[39mstatus_code \u001b[38;5;241m==\u001b[39m \u001b[38;5;241m200\u001b[39m:\n\u001b[0;32m    694\u001b[0m     \u001b[38;5;28;01mreturn\u001b[39;00m response\u001b[38;5;241m.\u001b[39mjson()\n\u001b[1;32m--> 695\u001b[0m \u001b[38;5;28;01mraise\u001b[39;00m UnexpectedStatusCodeException(\u001b[38;5;124m\"\u001b[39m\u001b[38;5;124mMeta endpoint\u001b[39m\u001b[38;5;124m\"\u001b[39m, response)\n",
      "\u001b[1;31mUnexpectedStatusCodeException\u001b[0m: Meta endpoint! Unexpected status code: 401, with response body: {'code': 401, 'message': 'invalid api key, please provide a valid api key'}."
     ]
    }
   ],
   "source": [
    "client = weaviate.Client(\n",
    "    url= 'https://cohere-demo.weaviate.network/',\n",
    "    auth_client_secret=auth_config,\n",
    "    additional_headers={\n",
    "        \"X-Cohere-Api-Key\":'ugFJXG6voNWkQ35qwSi13dwk5ba8kSxgfUZ2UEoI',\n",
    "    }\n",
    ")# getting api connection problem when tring to conncect the server with client"
   ]
  },
  {
   "cell_type": "code",
   "execution_count": null,
   "id": "2ae92136",
   "metadata": {},
   "outputs": [],
   "source": [
    "client.is_ready() # this is to check the remote database connection with this client"
   ]
  },
  {
   "cell_type": "markdown",
   "id": "3502cef2",
   "metadata": {},
   "source": [
    "The high level look how `key word` search work is that it compares the number of common words between the query and the articles and gives the article that have higher number of key word."
   ]
  },
  {
   "cell_type": "code",
   "execution_count": 24,
   "id": "19c2a196",
   "metadata": {},
   "outputs": [],
   "source": [
    "                                                            # we have parameters the we pass for keyword_search function\n",
    "def keyword_search(query,                                   # the query it tekes to compare with the articles\n",
    "                   results_lang='en',                       # the language preference\n",
    "                   properties = [\"title\",\"url\",\"text\"],     # the type of article properties we want from the result\n",
    "                   num_results=3):                          # number of article we want to desplay in our result\n",
    "\n",
    "    where_filter = {\n",
    "    \"path\": [\"lang\"],\n",
    "    \"operator\": \"Equal\",\n",
    "    \"valueString\": results_lang\n",
    "    }\n",
    "    \n",
    "    response = (\n",
    "        client.query.get(\"Articles\", properties)        # aticle with defined properties\n",
    "        .with_bm25(                                     # the algorithm we use to calculate the common key words\n",
    "            query=query                                 # specifing the query\n",
    "        )\n",
    "        .with_where(where_filter)                       # spacifing detailed spacification we want in the language\n",
    "        .with_limit(num_results)                        # specifing the number of result we need to desplay\n",
    "        .do()\n",
    "        )\n",
    "\n",
    "    result = response['data']['Get']['Articles']        # return the result\n",
    "    return result"
   ]
  },
  {
   "cell_type": "markdown",
   "id": "19dec0f5",
   "metadata": {},
   "source": [
    "The query"
   ]
  },
  {
   "cell_type": "code",
   "execution_count": 25,
   "id": "0657614b",
   "metadata": {},
   "outputs": [
    {
     "name": "stderr",
     "output_type": "stream",
     "text": [
      "C:\\Users\\nigus\\anaconda3\\lib\\ast.py:50: ResourceWarning: unclosed <ssl.SSLSocket fd=384, family=AddressFamily.AF_INET, type=SocketKind.SOCK_STREAM, proto=0, laddr=('192.168.0.9', 53869), raddr=('34.110.204.130', 443)>\n",
      "  return compile(source, filename, mode, flags,\n",
      "ResourceWarning: Enable tracemalloc to get the object allocation traceback\n",
      "C:\\Users\\nigus\\anaconda3\\lib\\ast.py:50: ResourceWarning: unclosed <ssl.SSLSocket fd=1648, family=AddressFamily.AF_INET, type=SocketKind.SOCK_STREAM, proto=0, laddr=('192.168.0.9', 53876), raddr=('34.110.204.130', 443)>\n",
      "  return compile(source, filename, mode, flags,\n",
      "ResourceWarning: Enable tracemalloc to get the object allocation traceback\n"
     ]
    },
    {
     "ename": "NameError",
     "evalue": "name 'client' is not defined",
     "output_type": "error",
     "traceback": [
      "\u001b[1;31m---------------------------------------------------------------------------\u001b[0m",
      "\u001b[1;31mNameError\u001b[0m                                 Traceback (most recent call last)",
      "Input \u001b[1;32mIn [25]\u001b[0m, in \u001b[0;36m<cell line: 2>\u001b[1;34m()\u001b[0m\n\u001b[0;32m      1\u001b[0m query \u001b[38;5;241m=\u001b[39m \u001b[38;5;124m\"\u001b[39m\u001b[38;5;124mWhat is the most viewed televised event?\u001b[39m\u001b[38;5;124m\"\u001b[39m\n\u001b[1;32m----> 2\u001b[0m keyword_search_results \u001b[38;5;241m=\u001b[39m \u001b[43mkeyword_search\u001b[49m\u001b[43m(\u001b[49m\u001b[43mquery\u001b[49m\u001b[43m)\u001b[49m\n\u001b[0;32m      3\u001b[0m \u001b[38;5;28mprint\u001b[39m(keyword_search_results)\n",
      "Input \u001b[1;32mIn [24]\u001b[0m, in \u001b[0;36mkeyword_search\u001b[1;34m(query, results_lang, properties, num_results)\u001b[0m\n\u001b[0;32m      1\u001b[0m \u001b[38;5;28;01mdef\u001b[39;00m \u001b[38;5;21mkeyword_search\u001b[39m(query,\u001b[38;5;66;03m#\u001b[39;00m\n\u001b[0;32m      2\u001b[0m                    results_lang\u001b[38;5;241m=\u001b[39m\u001b[38;5;124m'\u001b[39m\u001b[38;5;124men\u001b[39m\u001b[38;5;124m'\u001b[39m,\n\u001b[0;32m      3\u001b[0m                    properties \u001b[38;5;241m=\u001b[39m [\u001b[38;5;124m\"\u001b[39m\u001b[38;5;124mtitle\u001b[39m\u001b[38;5;124m\"\u001b[39m,\u001b[38;5;124m\"\u001b[39m\u001b[38;5;124murl\u001b[39m\u001b[38;5;124m\"\u001b[39m,\u001b[38;5;124m\"\u001b[39m\u001b[38;5;124mtext\u001b[39m\u001b[38;5;124m\"\u001b[39m],\n\u001b[0;32m      4\u001b[0m                    num_results\u001b[38;5;241m=\u001b[39m\u001b[38;5;241m3\u001b[39m):\n\u001b[0;32m      6\u001b[0m     where_filter \u001b[38;5;241m=\u001b[39m {\n\u001b[0;32m      7\u001b[0m     \u001b[38;5;124m\"\u001b[39m\u001b[38;5;124mpath\u001b[39m\u001b[38;5;124m\"\u001b[39m: [\u001b[38;5;124m\"\u001b[39m\u001b[38;5;124mlang\u001b[39m\u001b[38;5;124m\"\u001b[39m],\n\u001b[0;32m      8\u001b[0m     \u001b[38;5;124m\"\u001b[39m\u001b[38;5;124moperator\u001b[39m\u001b[38;5;124m\"\u001b[39m: \u001b[38;5;124m\"\u001b[39m\u001b[38;5;124mEqual\u001b[39m\u001b[38;5;124m\"\u001b[39m,\n\u001b[0;32m      9\u001b[0m     \u001b[38;5;124m\"\u001b[39m\u001b[38;5;124mvalueString\u001b[39m\u001b[38;5;124m\"\u001b[39m: results_lang\n\u001b[0;32m     10\u001b[0m     }\n\u001b[0;32m     12\u001b[0m     response \u001b[38;5;241m=\u001b[39m (\n\u001b[1;32m---> 13\u001b[0m         \u001b[43mclient\u001b[49m\u001b[38;5;241m.\u001b[39mquery\u001b[38;5;241m.\u001b[39mget(\u001b[38;5;124m\"\u001b[39m\u001b[38;5;124mArticles\u001b[39m\u001b[38;5;124m\"\u001b[39m, properties)\n\u001b[0;32m     14\u001b[0m         \u001b[38;5;241m.\u001b[39mwith_bm25(\n\u001b[0;32m     15\u001b[0m             query\u001b[38;5;241m=\u001b[39mquery\n\u001b[0;32m     16\u001b[0m         )\n\u001b[0;32m     17\u001b[0m         \u001b[38;5;241m.\u001b[39mwith_where(where_filter)\n\u001b[0;32m     18\u001b[0m         \u001b[38;5;241m.\u001b[39mwith_limit(num_results)\n\u001b[0;32m     19\u001b[0m         \u001b[38;5;241m.\u001b[39mdo()\n\u001b[0;32m     20\u001b[0m         )\n\u001b[0;32m     22\u001b[0m     result \u001b[38;5;241m=\u001b[39m response[\u001b[38;5;124m'\u001b[39m\u001b[38;5;124mdata\u001b[39m\u001b[38;5;124m'\u001b[39m][\u001b[38;5;124m'\u001b[39m\u001b[38;5;124mGet\u001b[39m\u001b[38;5;124m'\u001b[39m][\u001b[38;5;124m'\u001b[39m\u001b[38;5;124mArticles\u001b[39m\u001b[38;5;124m'\u001b[39m]\n\u001b[0;32m     23\u001b[0m     \u001b[38;5;28;01mreturn\u001b[39;00m result\n",
      "\u001b[1;31mNameError\u001b[0m: name 'client' is not defined"
     ]
    }
   ],
   "source": [
    "query = \"What is the most viewed televised event?\"\n",
    "keyword_search_results = keyword_search(query)\n",
    "print(keyword_search_results)"
   ]
  },
  {
   "cell_type": "markdown",
   "id": "f0c81d30",
   "metadata": {},
   "source": [
    "### Try modifying the search options\n",
    "Other languages to try: `en, de, fr, es, it, ja, ar, zh, ko, hi`"
   ]
  },
  {
   "cell_type": "code",
   "execution_count": 26,
   "id": "a6b6e353",
   "metadata": {},
   "outputs": [],
   "source": [
    "properties = [\"text\", \"title\", \"url\", \n",
    "             \"views\", \"lang\"]"
   ]
  },
  {
   "cell_type": "code",
   "execution_count": 27,
   "id": "2c43d322",
   "metadata": {},
   "outputs": [],
   "source": [
    "def print_result(result):\n",
    "    \"\"\" Print results with colorful formatting \"\"\"\n",
    "    for i,item in enumerate(result):\n",
    "        print(f'item {i}')\n",
    "        for key in item.keys():\n",
    "            print(f\"{key}:{item.get(key)}\")\n",
    "            print()\n",
    "        print()"
   ]
  },
  {
   "cell_type": "code",
   "execution_count": 28,
   "id": "4a80baaf",
   "metadata": {},
   "outputs": [
    {
     "ename": "NameError",
     "evalue": "name 'client' is not defined",
     "output_type": "error",
     "traceback": [
      "\u001b[1;31m---------------------------------------------------------------------------\u001b[0m",
      "\u001b[1;31mNameError\u001b[0m                                 Traceback (most recent call last)",
      "Input \u001b[1;32mIn [28]\u001b[0m, in \u001b[0;36m<cell line: 2>\u001b[1;34m()\u001b[0m\n\u001b[0;32m      1\u001b[0m query \u001b[38;5;241m=\u001b[39m \u001b[38;5;124m\"\u001b[39m\u001b[38;5;124mWhat is the most viewed televised event?\u001b[39m\u001b[38;5;124m\"\u001b[39m\n\u001b[1;32m----> 2\u001b[0m keyword_search_results \u001b[38;5;241m=\u001b[39m \u001b[43mkeyword_search\u001b[49m\u001b[43m(\u001b[49m\u001b[43mquery\u001b[49m\u001b[43m,\u001b[49m\u001b[43m \u001b[49m\u001b[43mresults_lang\u001b[49m\u001b[38;5;241;43m=\u001b[39;49m\u001b[38;5;124;43m'\u001b[39;49m\u001b[38;5;124;43mde\u001b[39;49m\u001b[38;5;124;43m'\u001b[39;49m\u001b[43m)\u001b[49m\n\u001b[0;32m      3\u001b[0m print_result(keyword_search_results)\n",
      "Input \u001b[1;32mIn [24]\u001b[0m, in \u001b[0;36mkeyword_search\u001b[1;34m(query, results_lang, properties, num_results)\u001b[0m\n\u001b[0;32m      1\u001b[0m \u001b[38;5;28;01mdef\u001b[39;00m \u001b[38;5;21mkeyword_search\u001b[39m(query,\u001b[38;5;66;03m#\u001b[39;00m\n\u001b[0;32m      2\u001b[0m                    results_lang\u001b[38;5;241m=\u001b[39m\u001b[38;5;124m'\u001b[39m\u001b[38;5;124men\u001b[39m\u001b[38;5;124m'\u001b[39m,\n\u001b[0;32m      3\u001b[0m                    properties \u001b[38;5;241m=\u001b[39m [\u001b[38;5;124m\"\u001b[39m\u001b[38;5;124mtitle\u001b[39m\u001b[38;5;124m\"\u001b[39m,\u001b[38;5;124m\"\u001b[39m\u001b[38;5;124murl\u001b[39m\u001b[38;5;124m\"\u001b[39m,\u001b[38;5;124m\"\u001b[39m\u001b[38;5;124mtext\u001b[39m\u001b[38;5;124m\"\u001b[39m],\n\u001b[0;32m      4\u001b[0m                    num_results\u001b[38;5;241m=\u001b[39m\u001b[38;5;241m3\u001b[39m):\n\u001b[0;32m      6\u001b[0m     where_filter \u001b[38;5;241m=\u001b[39m {\n\u001b[0;32m      7\u001b[0m     \u001b[38;5;124m\"\u001b[39m\u001b[38;5;124mpath\u001b[39m\u001b[38;5;124m\"\u001b[39m: [\u001b[38;5;124m\"\u001b[39m\u001b[38;5;124mlang\u001b[39m\u001b[38;5;124m\"\u001b[39m],\n\u001b[0;32m      8\u001b[0m     \u001b[38;5;124m\"\u001b[39m\u001b[38;5;124moperator\u001b[39m\u001b[38;5;124m\"\u001b[39m: \u001b[38;5;124m\"\u001b[39m\u001b[38;5;124mEqual\u001b[39m\u001b[38;5;124m\"\u001b[39m,\n\u001b[0;32m      9\u001b[0m     \u001b[38;5;124m\"\u001b[39m\u001b[38;5;124mvalueString\u001b[39m\u001b[38;5;124m\"\u001b[39m: results_lang\n\u001b[0;32m     10\u001b[0m     }\n\u001b[0;32m     12\u001b[0m     response \u001b[38;5;241m=\u001b[39m (\n\u001b[1;32m---> 13\u001b[0m         \u001b[43mclient\u001b[49m\u001b[38;5;241m.\u001b[39mquery\u001b[38;5;241m.\u001b[39mget(\u001b[38;5;124m\"\u001b[39m\u001b[38;5;124mArticles\u001b[39m\u001b[38;5;124m\"\u001b[39m, properties)\n\u001b[0;32m     14\u001b[0m         \u001b[38;5;241m.\u001b[39mwith_bm25(\n\u001b[0;32m     15\u001b[0m             query\u001b[38;5;241m=\u001b[39mquery\n\u001b[0;32m     16\u001b[0m         )\n\u001b[0;32m     17\u001b[0m         \u001b[38;5;241m.\u001b[39mwith_where(where_filter)\n\u001b[0;32m     18\u001b[0m         \u001b[38;5;241m.\u001b[39mwith_limit(num_results)\n\u001b[0;32m     19\u001b[0m         \u001b[38;5;241m.\u001b[39mdo()\n\u001b[0;32m     20\u001b[0m         )\n\u001b[0;32m     22\u001b[0m     result \u001b[38;5;241m=\u001b[39m response[\u001b[38;5;124m'\u001b[39m\u001b[38;5;124mdata\u001b[39m\u001b[38;5;124m'\u001b[39m][\u001b[38;5;124m'\u001b[39m\u001b[38;5;124mGet\u001b[39m\u001b[38;5;124m'\u001b[39m][\u001b[38;5;124m'\u001b[39m\u001b[38;5;124mArticles\u001b[39m\u001b[38;5;124m'\u001b[39m]\n\u001b[0;32m     23\u001b[0m     \u001b[38;5;28;01mreturn\u001b[39;00m result\n",
      "\u001b[1;31mNameError\u001b[0m: name 'client' is not defined"
     ]
    }
   ],
   "source": [
    "query = \"What is the most viewed televised event?\"\n",
    "keyword_search_results = keyword_search(query, results_lang='de')\n",
    "print_result(keyword_search_results)"
   ]
  },
  {
   "cell_type": "markdown",
   "id": "5c1172aa",
   "metadata": {},
   "source": [
    "## Limitation of Key word search"
   ]
  },
  {
   "cell_type": "markdown",
   "id": "d0453105",
   "metadata": {},
   "source": [
    "Key word is not always the best choice because during queries that have no `shared or common key words` it tries to return results(articlse) that are not related with the query."
   ]
  },
  {
   "cell_type": "code",
   "execution_count": null,
   "id": "1d2a888b",
   "metadata": {},
   "outputs": [],
   "source": []
  }
 ],
 "metadata": {
  "kernelspec": {
   "display_name": "Python 3 (ipykernel)",
   "language": "python",
   "name": "python3"
  },
  "language_info": {
   "codemirror_mode": {
    "name": "ipython",
    "version": 3
   },
   "file_extension": ".py",
   "mimetype": "text/x-python",
   "name": "python",
   "nbconvert_exporter": "python",
   "pygments_lexer": "ipython3",
   "version": "3.9.12"
  }
 },
 "nbformat": 4,
 "nbformat_minor": 5
}
