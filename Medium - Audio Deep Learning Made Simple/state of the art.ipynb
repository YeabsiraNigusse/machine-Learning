{
  "cells": [
    {
      "cell_type": "markdown",
      "metadata": {
        "id": "view-in-github",
        "colab_type": "text"
      },
      "source": [
        "<a href=\"https://colab.research.google.com/github/YeabsiraNigusse/Coursera-Deep-Learning-Specialization/blob/main/Medium%20-%20Audio%20Deep%20Learning%20Made%20Simple/state%20of%20the%20art.ipynb\" target=\"_parent\"><img src=\"https://colab.research.google.com/assets/colab-badge.svg\" alt=\"Open In Colab\"/></a>"
      ]
    },
    {
      "cell_type": "markdown",
      "id": "e3a08507-fc65-478a-acd3-3181c189832d",
      "metadata": {
        "id": "e3a08507-fc65-478a-acd3-3181c189832d"
      },
      "source": [
        "### State of the art\n",
        "\n",
        "Link to the article https://towardsdatascience.com/audio-deep-learning-made-simple-part-1-state-of-the-art-techniques-da1d3dff2504"
      ]
    },
    {
      "cell_type": "markdown",
      "id": "c3a98b53-fd57-4220-bf8f-2665d85728ce",
      "metadata": {
        "id": "c3a98b53-fd57-4220-bf8f-2665d85728ce"
      },
      "source": [
        "What is sound\n",
        "- sound signal is produced dut to air pressure varation and we can measure the intensity of the varation\n",
        "- sounde varation can be measured by frequency and amplitude\n",
        "  "
      ]
    },
    {
      "cell_type": "markdown",
      "id": "8b0c15bf-cd52-4a9e-b682-d0e0f1e36a5e",
      "metadata": {
        "id": "8b0c15bf-cd52-4a9e-b682-d0e0f1e36a5e"
      },
      "source": [
        "How do we represent sound digitally\n",
        "\n",
        "- signals should be turned into series of numbers. this is done by measuring the amplitude of the sound with a give time interval.\n",
        "- we devise each mesurement called sample with common sampling rate which is 44, 100 for each second\n"
      ]
    },
    {
      "cell_type": "markdown",
      "id": "a2029668-3ebb-4fe2-b06f-a5d181019927",
      "metadata": {
        "id": "a2029668-3ebb-4fe2-b06f-a5d181019927"
      },
      "source": [
        "Preparing audio data for a deep learning model\n",
        "\n",
        "- in deep learning era we don't need manual and custom generation of features to train our model but only focus on standard data preparation techniqes\n",
        "- what we do is that we turn the audio signal into images and CNN algorithms handle the rest of it. this is done by using spectorograms\n",
        "  "
      ]
    },
    {
      "cell_type": "markdown",
      "id": "11f81a3e-fc1c-4990-923f-68af398c6815",
      "metadata": {
        "id": "11f81a3e-fc1c-4990-923f-68af398c6815"
      },
      "source": [
        "spectrum\n",
        "\n",
        "- signal can be expressesd as a sum of different frequncies\n",
        "- the spectrum is the set of frequencis that are combined together to produce a signal\n",
        "- a spectrum varies with time interval\n",
        "- spectrogram measures the frequncy of a signal over a period of time and it shows as a photograph of the signal a a picture."
      ]
    },
    {
      "cell_type": "markdown",
      "id": "1eebe6ad-d2f2-48a5-a94e-b2538ce4c742",
      "metadata": {
        "id": "1eebe6ad-d2f2-48a5-a94e-b2538ce4c742"
      },
      "source": [
        "time domain vs frquency domain\n",
        "\n",
        "- we can view signal as amplitude over time which is called time domain veiw of a signal\n",
        "- we can also view a signal as amplitude over frequency which is called frequncy veiw of a signal"
      ]
    },
    {
      "cell_type": "markdown",
      "id": "3e8c92e4-8c17-4ea4-ab72-f1d5ee513a15",
      "metadata": {
        "id": "3e8c92e4-8c17-4ea4-ab72-f1d5ee513a15"
      },
      "source": [
        "Application of audio detaction\n",
        "\n",
        "- Audio calssification: eg failurity of a machine based on its sound\n",
        "- Audio separation and detection: aplied in music and medicine fields to detect specific organ sound and detact anomalies\n",
        "- Music Genre classification and tagging: to feed users according to their preference\n",
        "- Music generation and Music Transcription\n",
        "- Voic recognition\n",
        "- Text to speech and Speech to text"
      ]
    }
  ],
  "metadata": {
    "kernelspec": {
      "display_name": "Python 3 (ipykernel)",
      "language": "python",
      "name": "python3"
    },
    "language_info": {
      "codemirror_mode": {
        "name": "ipython",
        "version": 3
      },
      "file_extension": ".py",
      "mimetype": "text/x-python",
      "name": "python",
      "nbconvert_exporter": "python",
      "pygments_lexer": "ipython3",
      "version": "3.11.4"
    },
    "colab": {
      "provenance": [],
      "include_colab_link": true
    }
  },
  "nbformat": 4,
  "nbformat_minor": 5
}