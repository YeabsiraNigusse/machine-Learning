{
  "cells": [
    {
      "cell_type": "markdown",
      "metadata": {
        "id": "view-in-github",
        "colab_type": "text"
      },
      "source": [
        "<a href=\"https://colab.research.google.com/github/YeabsiraNigusse/Coursera-Deep-Learning-Specialization/blob/main/Medium%20-%20Audio%20Deep%20Learning%20Made%20Simple/Part%203.ipynb\" target=\"_parent\"><img src=\"https://colab.research.google.com/assets/colab-badge.svg\" alt=\"Open In Colab\"/></a>"
      ]
    },
    {
      "cell_type": "markdown",
      "source": [
        "# Data Preparation and Data Augmentation\n",
        "\n",
        "Link for the article https://towardsdatascience.com/audio-deep-learning-made-simple-part-3-data-preparation-and-augmentation-24c6e1f6b52"
      ],
      "metadata": {
        "id": "4MbfvpUzmERp"
      },
      "id": "4MbfvpUzmERp"
    },
    {
      "cell_type": "markdown",
      "source": [
        "In order to make our generated image by using Mel spectrogram better we need to know how Mel spectrogram works. so by finding out its different parameters we can tune to our specific problem or need\n",
        "\n",
        "- Mel spectrogram use Discrete Fourier Transform(DFT) to compute Fourier Transforms which helps to transform frequnceis and aplitudes into digital format.\n",
        "- but DFT are expensive to compute so we use Fast Fourier Transform(FFT). However FFTs calculat the entire audio at once so instead we use short-time Fourier Transform(STFT)\n",
        "- The STFT is another variant of the Fourier Transform that breaks up the audio signal into smaller sections by using a sliding time window. It takes the FFT on each section and then combines them. It is thus able to capture the variations of the frequency with time."
      ],
      "metadata": {
        "id": "4qAM01cZwm9c"
      },
      "id": "4qAM01cZwm9c"
    },
    {
      "cell_type": "markdown",
      "source": [
        "### Data Agumentation Techniqes\n",
        "- Frequency mask — randomly mask out a range of consecutive frequencies by adding horizontal bars on the spectrogram.\n",
        "- Time mask — similar to frequency masks, except that we randomly block out ranges of time from the spectrogram by using vertical bars.\n",
        "- Time Shift — shift audio to the left or the right by a random amount.\n",
        "- Pitch Shift — randomly modify the frequency of parts of the sound."
      ],
      "metadata": {
        "id": "o5kw9n4NXSv9"
      },
      "id": "o5kw9n4NXSv9"
    },
    {
      "cell_type": "code",
      "source": [],
      "metadata": {
        "id": "WgEdK1ziXGkP"
      },
      "id": "WgEdK1ziXGkP",
      "execution_count": null,
      "outputs": []
    }
  ],
  "metadata": {
    "colab": {
      "provenance": [],
      "include_colab_link": true
    }
  },
  "nbformat": 4,
  "nbformat_minor": 5
}
