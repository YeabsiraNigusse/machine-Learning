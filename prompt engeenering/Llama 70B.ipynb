{
 "cells": [
  {
   "cell_type": "markdown",
   "id": "16648049-4be4-46ce-a4a2-841f4e20c4d3",
   "metadata": {},
   "source": [
    "### Llama 70b on together ai"
   ]
  },
  {
   "cell_type": "code",
   "execution_count": null,
   "id": "409cc883",
   "metadata": {},
   "outputs": [],
   "source": [
    "!pip install langchain"
   ]
  },
  {
   "cell_type": "code",
   "execution_count": null,
   "id": "6901ad1e-bd1a-4b0a-9a78-082ee4902b2d",
   "metadata": {},
   "outputs": [],
   "source": [
    "import os"
   ]
  },
  {
   "cell_type": "code",
   "execution_count": null,
   "id": "53f2381a-83c3-49b1-8ab0-209bef0f508f",
   "metadata": {},
   "outputs": [],
   "source": [
    "!pip -q install --upgrade together"
   ]
  },
  {
   "cell_type": "code",
   "execution_count": null,
   "id": "9e082e12",
   "metadata": {},
   "outputs": [],
   "source": [
    "import together \n",
    "\n",
    "together_api_key = os.environ['TOGETHER_API_KEY']\n",
    "together.api_key = together_api_key\n",
    "\n",
    "models = together.Models.list()\n",
    "\n",
    "print(models[3]['name']), print(models[52]['name'])\n",
    "\n"
   ]
  },
  {
   "cell_type": "code",
   "execution_count": null,
   "id": "4a1da8af",
   "metadata": {},
   "outputs": [],
   "source": [
    "together.Models.start(\"togethercomputer/llama-2-70b-chat\")"
   ]
  },
  {
   "cell_type": "code",
   "execution_count": null,
   "id": "932c929a",
   "metadata": {},
   "outputs": [],
   "source": [
    "import together\n",
    "\n",
    "import logging\n",
    "from typing import Any, Dict, List, Mapping, Optional\n",
    "\n",
    "from pydantic import Extra, Field, root_validator\n",
    "\n",
    "from langchain.callbacks.manager import CallbackManagerForLLMRun\n",
    "from langchain.llms.base import LLM\n",
    "from langchain.llms.utils import enforce_stop_tokens\n",
    "from langchain.utils import get_from_dict_or_env\n",
    "\n",
    "class TogetherLLM(LLM):\n",
    "    \"\"\"Together large language models.\"\"\"\n",
    "\n",
    "    model: str = \"togethercomputer/llama-2-70b-chat\"\n",
    "    \"\"\"model endpoint to use\"\"\"\n",
    "\n",
    "    together_api_key: str = os.environ[\"TOGETHER_API_KEY\"]\n",
    "    \"\"\"Together API key\"\"\"\n",
    "\n",
    "    temperature: float = 0.7\n",
    "    \"\"\"What sampling temperature to use.\"\"\"\n",
    "\n",
    "    max_tokens: int = 512\n",
    "    \"\"\"The maximum number of tokens to generate in the completion.\"\"\"\n",
    "\n",
    "    class Config:\n",
    "        extra = Extra.forbid\n",
    "\n",
    "    # @root_validator()\n",
    "    # def validate_environment(cls, values: Dict) -> Dict:\n",
    "    #     \"\"\"Validate that the API key is set.\"\"\"\n",
    "    #     api_key = get_from_dict_or_env(values, \"together_api_key\", \"TOGETHER_API_KEY\"\n",
    "    #     )\n",
    "    #     values[\"together_api_key\"] = api_key\n",
    "    #     return values\n",
    "\n",
    "    @property\n",
    "    def _llm_type(self) -> str:\n",
    "        \"\"\"Return type of LLM.\"\"\"\n",
    "        return \"together\"\n",
    "\n",
    "    def _call(\n",
    "        self,\n",
    "        prompt: str,\n",
    "        **kwargs: Any,\n",
    "    ) -> str:\n",
    "        \"\"\"Call to Together endpoint.\"\"\"\n",
    "        together.api_key = self.together_api_key\n",
    "        output = together.Complete.create(prompt,\n",
    "                                          model=self.model,\n",
    "                                          max_tokens=self.max_tokens,\n",
    "                                          temperature=self.temperature,\n",
    "                                          )\n",
    "        text = output['output']['choices'][0]['text']\n",
    "        return text"
   ]
  }
 ],
 "metadata": {
  "kernelspec": {
   "display_name": "Python 3 (ipykernel)",
   "language": "python",
   "name": "python3"
  },
  "language_info": {
   "codemirror_mode": {
    "name": "ipython",
    "version": 3
   },
   "file_extension": ".py",
   "mimetype": "text/x-python",
   "name": "python",
   "nbconvert_exporter": "python",
   "pygments_lexer": "ipython3",
   "version": "3.11.4"
  }
 },
 "nbformat": 4,
 "nbformat_minor": 5
}
