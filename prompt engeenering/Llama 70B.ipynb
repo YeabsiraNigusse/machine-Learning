{
 "cells": [
  {
   "cell_type": "markdown",
   "id": "16648049-4be4-46ce-a4a2-841f4e20c4d3",
   "metadata": {},
   "source": [
    "### Llama 70b on together ai"
   ]
  },
  {
   "cell_type": "code",
   "execution_count": null,
   "id": "6901ad1e-bd1a-4b0a-9a78-082ee4902b2d",
   "metadata": {},
   "outputs": [],
   "source": []
  },
  {
   "cell_type": "code",
   "execution_count": null,
   "id": "53f2381a-83c3-49b1-8ab0-209bef0f508f",
   "metadata": {},
   "outputs": [],
   "source": []
  }
 ],
 "metadata": {
  "kernelspec": {
   "display_name": "Python 3 (ipykernel)",
   "language": "python",
   "name": "python3"
  },
  "language_info": {
   "codemirror_mode": {
    "name": "ipython",
    "version": 3
   },
   "file_extension": ".py",
   "mimetype": "text/x-python",
   "name": "python",
   "nbconvert_exporter": "python",
   "pygments_lexer": "ipython3",
   "version": "3.11.4"
  }
 },
 "nbformat": 4,
 "nbformat_minor": 5
}
