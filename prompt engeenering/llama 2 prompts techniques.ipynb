{
 "cells": [
  {
   "cell_type": "markdown",
   "id": "4814b02d",
   "metadata": {},
   "source": [
    "## Guidlines to Prompt Llama 2"
   ]
  },
  {
   "cell_type": "markdown",
   "id": "c2fde4c9",
   "metadata": {},
   "source": [
    "- ### Format chat prompt with [INST] [/INST]\n",
    "- ### Snip the prompt past the context window\n",
    "- ### Use system prompts (just not the defult one)\n",
    "- ### Play with temprature (recommended 0.75)\n",
    "- ### Tell Llama 2 about the tools it can use\n",
    "- ### Ask Llama 2 to think step by step"
   ]
  },
  {
   "cell_type": "markdown",
   "id": "d73642ff",
   "metadata": {},
   "source": []
  }
 ],
 "metadata": {
  "kernelspec": {
   "display_name": "Python 3 (ipykernel)",
   "language": "python",
   "name": "python3"
  },
  "language_info": {
   "codemirror_mode": {
    "name": "ipython",
    "version": 3
   },
   "file_extension": ".py",
   "mimetype": "text/x-python",
   "name": "python",
   "nbconvert_exporter": "python",
   "pygments_lexer": "ipython3",
   "version": "3.9.12"
  }
 },
 "nbformat": 4,
 "nbformat_minor": 5
}
