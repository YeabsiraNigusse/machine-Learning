{
 "cells": [
  {
   "cell_type": "markdown",
   "id": "8fa17ec4-5602-47bd-8f3e-490b77c84a1c",
   "metadata": {},
   "source": [
    "### Llama Prompt Test"
   ]
  },
  {
   "cell_type": "code",
   "execution_count": null,
   "id": "f98e661a-2e2b-4865-bba6-6df5246432d9",
   "metadata": {},
   "outputs": [],
   "source": []
  }
 ],
 "metadata": {
  "kernelspec": {
   "display_name": "Python 3 (ipykernel)",
   "language": "python",
   "name": "python3"
  },
  "language_info": {
   "codemirror_mode": {
    "name": "ipython",
    "version": 3
   },
   "file_extension": ".py",
   "mimetype": "text/x-python",
   "name": "python",
   "nbconvert_exporter": "python",
   "pygments_lexer": "ipython3",
   "version": "3.11.4"
  }
 },
 "nbformat": 4,
 "nbformat_minor": 5
}
