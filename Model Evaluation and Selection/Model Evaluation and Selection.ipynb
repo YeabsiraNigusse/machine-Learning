{
  "cells": [
    {
      "cell_type": "markdown",
      "metadata": {
        "id": "view-in-github",
        "colab_type": "text"
      },
      "source": [
        "<a href=\"https://colab.research.google.com/github/YeabsiraNigusse/machine-Learning/blob/main/Model%20Evaluation%20and%20Selection/Model%20Evaluation%20and%20Selection.ipynb\" target=\"_parent\"><img src=\"https://colab.research.google.com/assets/colab-badge.svg\" alt=\"Open In Colab\"/></a>"
      ]
    },
    {
      "cell_type": "markdown",
      "id": "fcfe27dd-890e-4bea-8380-2b60470e718f",
      "metadata": {
        "id": "fcfe27dd-890e-4bea-8380-2b60470e718f"
      },
      "source": [
        "### Modele Evaluation and Selection"
      ]
    },
    {
      "cell_type": "markdown",
      "id": "5c55381f-bbc0-4267-8260-c98b535233e8",
      "metadata": {
        "id": "5c55381f-bbc0-4267-8260-c98b535233e8"
      },
      "source": [
        "#### what we will do\n",
        "- split dataset into training, cross validation and test sets\n",
        "- evaluate linear and classification Models\n",
        "- add polinomial feature to make linear regression performance well\n",
        "- compare several neural network architecture"
      ]
    },
    {
      "cell_type": "markdown",
      "id": "2c410de3-d651-4782-b956-107431349f3c",
      "metadata": {
        "id": "2c410de3-d651-4782-b956-107431349f3c"
      },
      "source": [
        "### Imports and Lab setups"
      ]
    },
    {
      "cell_type": "code",
      "execution_count": null,
      "id": "f106be3e-b139-4617-97c2-bdf3226c0f5f",
      "metadata": {
        "id": "f106be3e-b139-4617-97c2-bdf3226c0f5f"
      },
      "outputs": [],
      "source": [
        "!pip install numpy\n",
        "!pip install scikit-learn\n",
        "!pip install tensorflow"
      ]
    },
    {
      "cell_type": "code",
      "execution_count": null,
      "id": "ee10971f-ad06-48bd-8883-d8e9a0cbe991",
      "metadata": {
        "id": "ee10971f-ad06-48bd-8883-d8e9a0cbe991"
      },
      "outputs": [],
      "source": [
        "# for array computations and loading data\n",
        "import numpy as np\n",
        "\n",
        "# for building linear regression models and preparing data\n",
        "from sklearn.linear_model import LinearRegression\n",
        "from sklearn.preprocessing import StandardScaler, PolynomialFeatures\n",
        "from sklearn.model_selection import train_test_split\n",
        "from sklearn.metrics import mean_squared_error\n",
        "\n",
        "# for building and training neural networks\n",
        "import tensorflow as tf\n",
        "\n",
        "# custom functions\n",
        "from google.colab import drive\n",
        "drive.mount('/content/drive')\n",
        "\n",
        "import utils\n",
        "\n",
        "# reduce display precision on numpy arrays\n",
        "np.set_printoptions(precision=2)\n",
        "\n",
        "# suppress warnings\n",
        "tf.get_logger().setLevel('ERROR')\n",
        "tf.autograph.set_verbosity(0)"
      ]
    },
    {
      "cell_type": "code",
      "source": [],
      "metadata": {
        "id": "9CBoB2ry_mAn"
      },
      "id": "9CBoB2ry_mAn",
      "execution_count": null,
      "outputs": []
    },
    {
      "cell_type": "code",
      "execution_count": null,
      "id": "75a80e0f-40a1-41bc-b845-36df3929c2c5",
      "metadata": {
        "id": "75a80e0f-40a1-41bc-b845-36df3929c2c5"
      },
      "outputs": [],
      "source": []
    }
  ],
  "metadata": {
    "kernelspec": {
      "display_name": "Python 3 (ipykernel)",
      "language": "python",
      "name": "python3"
    },
    "language_info": {
      "codemirror_mode": {
        "name": "ipython",
        "version": 3
      },
      "file_extension": ".py",
      "mimetype": "text/x-python",
      "name": "python",
      "nbconvert_exporter": "python",
      "pygments_lexer": "ipython3",
      "version": "3.11.4"
    },
    "colab": {
      "provenance": [],
      "include_colab_link": true
    }
  },
  "nbformat": 4,
  "nbformat_minor": 5
}