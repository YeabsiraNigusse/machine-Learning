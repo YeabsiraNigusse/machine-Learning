{
 "cells": [
  {
   "cell_type": "markdown",
   "id": "351c63ef",
   "metadata": {},
   "source": [
    "## Definition"
   ]
  },
  {
   "cell_type": "markdown",
   "id": "0fdf355a",
   "metadata": {},
   "source": [
    "Logistic regression is an example of supervised learning. It is used to calculate or predict the probability of a binary (yes/no) event occurring."
   ]
  },
  {
   "cell_type": "markdown",
   "id": "de5250fb",
   "metadata": {},
   "source": [
    "## Importing libreries for data Analysis and visualization"
   ]
  },
  {
   "cell_type": "code",
   "execution_count": 11,
   "id": "d1bfbc95",
   "metadata": {},
   "outputs": [],
   "source": [
    "import pandas as pd\n",
    "from sklearn.tree import DecisionTreeClassifier\n",
    "import seaborn as sns\n",
    "music = pd.read_csv('music.csv')\n"
   ]
  },
  {
   "cell_type": "markdown",
   "id": "eeb02f86",
   "metadata": {},
   "source": [
    "## Load and prepare the data"
   ]
  },
  {
   "cell_type": "markdown",
   "id": "6a0ecceb",
   "metadata": {},
   "source": [
    "The data below shows music preference of male person depending on his age. it classify their genre of music based on age of the person"
   ]
  },
  {
   "cell_type": "code",
   "execution_count": 8,
   "id": "ac6a2f6b",
   "metadata": {},
   "outputs": [],
   "source": [
    "music = pd.read_csv('music.csv')\n",
    "X = music.drop(columns=['genre'])\n",
    "y = music['genre']"
   ]
  },
  {
   "cell_type": "code",
   "execution_count": 9,
   "id": "4b5cad1b",
   "metadata": {},
   "outputs": [
    {
     "data": {
      "text/html": [
       "<div>\n",
       "<style scoped>\n",
       "    .dataframe tbody tr th:only-of-type {\n",
       "        vertical-align: middle;\n",
       "    }\n",
       "\n",
       "    .dataframe tbody tr th {\n",
       "        vertical-align: top;\n",
       "    }\n",
       "\n",
       "    .dataframe thead th {\n",
       "        text-align: right;\n",
       "    }\n",
       "</style>\n",
       "<table border=\"1\" class=\"dataframe\">\n",
       "  <thead>\n",
       "    <tr style=\"text-align: right;\">\n",
       "      <th></th>\n",
       "      <th>age</th>\n",
       "      <th>gender</th>\n",
       "      <th>genre</th>\n",
       "    </tr>\n",
       "  </thead>\n",
       "  <tbody>\n",
       "    <tr>\n",
       "      <th>0</th>\n",
       "      <td>20</td>\n",
       "      <td>1</td>\n",
       "      <td>HipHop</td>\n",
       "    </tr>\n",
       "    <tr>\n",
       "      <th>1</th>\n",
       "      <td>23</td>\n",
       "      <td>1</td>\n",
       "      <td>HipHop</td>\n",
       "    </tr>\n",
       "    <tr>\n",
       "      <th>2</th>\n",
       "      <td>25</td>\n",
       "      <td>1</td>\n",
       "      <td>HipHop</td>\n",
       "    </tr>\n",
       "    <tr>\n",
       "      <th>3</th>\n",
       "      <td>26</td>\n",
       "      <td>1</td>\n",
       "      <td>Jazz</td>\n",
       "    </tr>\n",
       "    <tr>\n",
       "      <th>4</th>\n",
       "      <td>29</td>\n",
       "      <td>1</td>\n",
       "      <td>Jazz</td>\n",
       "    </tr>\n",
       "    <tr>\n",
       "      <th>5</th>\n",
       "      <td>30</td>\n",
       "      <td>1</td>\n",
       "      <td>Jazz</td>\n",
       "    </tr>\n",
       "    <tr>\n",
       "      <th>6</th>\n",
       "      <td>31</td>\n",
       "      <td>1</td>\n",
       "      <td>Classical</td>\n",
       "    </tr>\n",
       "    <tr>\n",
       "      <th>7</th>\n",
       "      <td>33</td>\n",
       "      <td>1</td>\n",
       "      <td>Classical</td>\n",
       "    </tr>\n",
       "    <tr>\n",
       "      <th>8</th>\n",
       "      <td>37</td>\n",
       "      <td>1</td>\n",
       "      <td>Classical</td>\n",
       "    </tr>\n",
       "  </tbody>\n",
       "</table>\n",
       "</div>"
      ],
      "text/plain": [
       "   age  gender      genre\n",
       "0   20       1     HipHop\n",
       "1   23       1     HipHop\n",
       "2   25       1     HipHop\n",
       "3   26       1       Jazz\n",
       "4   29       1       Jazz\n",
       "5   30       1       Jazz\n",
       "6   31       1  Classical\n",
       "7   33       1  Classical\n",
       "8   37       1  Classical"
      ]
     },
     "execution_count": 9,
     "metadata": {},
     "output_type": "execute_result"
    }
   ],
   "source": [
    "music"
   ]
  },
  {
   "cell_type": "markdown",
   "id": "43a790b1",
   "metadata": {},
   "source": [
    "## Train and predict the data"
   ]
  },
  {
   "cell_type": "code",
   "execution_count": 12,
   "id": "72b2ba51",
   "metadata": {},
   "outputs": [
    {
     "name": "stderr",
     "output_type": "stream",
     "text": [
      "C:\\Users\\User\\anaconda3\\lib\\site-packages\\sklearn\\base.py:450: UserWarning: X does not have valid feature names, but DecisionTreeClassifier was fitted with feature names\n",
      "  warnings.warn(\n"
     ]
    },
    {
     "data": {
      "text/plain": [
       "array(['HipHop', 'HipHop'], dtype=object)"
      ]
     },
     "execution_count": 12,
     "metadata": {},
     "output_type": "execute_result"
    }
   ],
   "source": [
    "model = DecisionTreeClassifier()\n",
    "model.fit(X,y)\n",
    "predictions = model.predict([[21,1],[21,0]])\n",
    "predictions"
   ]
  },
  {
   "cell_type": "markdown",
   "id": "ec7ad70c",
   "metadata": {},
   "source": []
  }
 ],
 "metadata": {
  "kernelspec": {
   "display_name": "Python 3 (ipykernel)",
   "language": "python",
   "name": "python3"
  },
  "language_info": {
   "codemirror_mode": {
    "name": "ipython",
    "version": 3
   },
   "file_extension": ".py",
   "mimetype": "text/x-python",
   "name": "python",
   "nbconvert_exporter": "python",
   "pygments_lexer": "ipython3",
   "version": "3.9.12"
  }
 },
 "nbformat": 4,
 "nbformat_minor": 5
}
