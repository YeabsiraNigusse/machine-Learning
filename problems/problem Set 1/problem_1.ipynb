{
 "cells": [
  {
   "cell_type": "markdown",
   "id": "2611a05a",
   "metadata": {},
   "source": [
    "1 What do you think machine learning is? It will be better if you explain what you\n",
    "think?"
   ]
  },
  {
   "cell_type": "markdown",
   "id": "f8a251e0-dfb6-4051-954d-799230684f4a",
   "metadata": {},
   "source": [
    "Answer -> Matchine learning is a field of scince which study about how we can make machines to do a task or solve a problem using data rather than using explicite programming. "
   ]
  },
  {
   "cell_type": "markdown",
   "id": "a3856ee5-9393-4fdd-a37a-42e74a6dce0e",
   "metadata": {},
   "source": [
    " This is a formal definition by Tom Mitchell:-\r\n",
    "A computer program is said to learn from experience E with respect to some\r\n",
    "class of tasks T and performance measure P, if its performance at tasks in T,\r\n",
    "as measured by P, improves with experience E."
   ]
  },
  {
   "cell_type": "markdown",
   "id": "fe18b978-25b3-4999-819b-a77f36061914",
   "metadata": {},
   "source": [
    "2 Do try to understand this definition about ML and explain with the help of an Email\r\n",
    "spam detection example, meaning What is E in spam detection, what T in spam\r\n",
    "detection and what is P in Spam detection."
   ]
  },
  {
   "cell_type": "markdown",
   "id": "61c526c9-14c9-487c-8ff0-cef09558569d",
   "metadata": {},
   "source": [
    "Answer -> "
   ]
  },
  {
   "cell_type": "code",
   "execution_count": null,
   "id": "68ba329c-5f0a-4f12-b85c-7fb8596365b8",
   "metadata": {},
   "outputs": [],
   "source": []
  }
 ],
 "metadata": {
  "kernelspec": {
   "display_name": "Python 3 (ipykernel)",
   "language": "python",
   "name": "python3"
  },
  "language_info": {
   "codemirror_mode": {
    "name": "ipython",
    "version": 3
   },
   "file_extension": ".py",
   "mimetype": "text/x-python",
   "name": "python",
   "nbconvert_exporter": "python",
   "pygments_lexer": "ipython3",
   "version": "3.11.4"
  }
 },
 "nbformat": 4,
 "nbformat_minor": 5
}
