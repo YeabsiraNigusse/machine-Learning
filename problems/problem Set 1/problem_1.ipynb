{
 "cells": [
  {
   "cell_type": "markdown",
   "id": "2611a05a",
   "metadata": {},
   "source": [
    "1 What do you think machine learning is? It will be better if you explain what you\n",
    "think?"
   ]
  },
  {
   "cell_type": "markdown",
   "id": "f8a251e0-dfb6-4051-954d-799230684f4a",
   "metadata": {},
   "source": [
    "Answer -> Matchine learning is a field of scince which study about how we can make machines to do a task or solve a problem using data rather than using explicite programming. \n",
    "\n",
    "Technically it is related with making a function which is called a model that maps it input parameters to its output(desirred) value which is called target value"
   ]
  },
  {
   "cell_type": "markdown",
   "id": "a3856ee5-9393-4fdd-a37a-42e74a6dce0e",
   "metadata": {},
   "source": [
    " 2 This is a formal definition by Tom Mitchell:-\r\n",
    "A computer program is said to learn from experience E with respect to some\r\n",
    "class of tasks T and performance measure P, if its performance at tasks in T,\r\n",
    "as measured by P, improves with experience E."
   ]
  },
  {
   "cell_type": "markdown",
   "id": "fe18b978-25b3-4999-819b-a77f36061914",
   "metadata": {},
   "source": [
    "3 Do try to understand this definition about ML and explain with the help of an Email\r\n",
    "spam detection example, meaning What is E in spam detection, what T in spam\r\n",
    "detection and what is P in Spam detection."
   ]
  },
  {
   "cell_type": "markdown",
   "id": "61c526c9-14c9-487c-8ff0-cef09558569d",
   "metadata": {},
   "source": [
    "Answer -> T(task) -> differentiate whether email is spam or not spam\n",
    "          E(experiance) -> learning using data prediction\n",
    "          P(performance) -> the level of pridiction accuracy"
   ]
  },
  {
   "cell_type": "markdown",
   "id": "02ac5899-6749-4ebe-bcee-fe47a3cf3ff8",
   "metadata": {},
   "source": [
    "mind the process of ML like looking the data, prepare the function(model), Evaluate, launch and make error analaysis"
   ]
  },
  {
   "cell_type": "markdown",
   "id": "a1572a91-088a-4973-a7d4-49cf00a0cf7f",
   "metadata": {},
   "source": [
    "4 What are some types of machine learning and can you say these types with the help of\r\n",
    "examples?\r"
   ]
  },
  {
   "cell_type": "markdown",
   "id": "a242dafa-7256-4613-ad89-7105d19a41c9",
   "metadata": {},
   "source": [
    "Supervise and Unsupervised ML\n",
    "\n",
    "Supervised is in the training data the machines is trained with trained data which involve humans and can be further devided into regration and classififcation Algorithms\n",
    "\n",
    "Regration is a type of models that have continues value of data eg house price prediction\n",
    "Classification is a type of models that have discrete type of data value eg spam or not spam "
   ]
  },
  {
   "cell_type": "markdown",
   "id": "b350510e-4a33-4173-a51c-0aa4d50971b1",
   "metadata": {},
   "source": [
    " Unsupervise ML is when the data is not labled and when the machine figure out the the data by itself "
   ]
  },
  {
   "cell_type": "markdown",
   "id": "9578a14a-95b3-4042-a225-a5b8597f8d2f",
   "metadata": {},
   "source": [
    "5 Write 10 real world machine learning applications? Be sure to do the research and\r\n",
    "can you say in what way it will benefit the world?\r"
   ]
  },
  {
   "cell_type": "markdown",
   "id": "7f4c2def-1b73-4c64-bf5d-b155c5931bb0",
   "metadata": {},
   "source": [
    "1 Analyzing images of products on a production line to automatically classify \n",
    "them\r\n",
    "This is image classification, typically performed using convolutional\r\n",
    "neural netwo\n",
    "\n",
    "\n",
    "2 Detecting tumors in brain scans\r\n",
    "This is semantic segmentation, where each pixel in the image is\r\n",
    "classified (as we want to determine the exact location and shape of\r\n",
    "tumors), typically using CNNs as we\n",
    "\n",
    "l3 Automatically flagging offensive comments on discussion forums\r\n",
    "This is also text classification, using the same NLP tool\n",
    "\n",
    "\n",
    "4 Summarizing long documents automatically\r\n",
    "This is a branch of NLP called text summarization, again using the same\r\n",
    "tool\n",
    "\n",
    "\n",
    "5 Creating a chatbot or a personal assistant\r\n",
    "This involves many NLP components, including natural language\r\n",
    "understanding (NLU) and question-answering module\n",
    "\n",
    "\n",
    "6 Making your app react to voice commands\r\n",
    "This is speech recognition, which requires processing audio samples:\r\n",
    "since they are long and complex sequences, they are typically processed\r\n",
    "using RNNs, CNNs, or Transform\n",
    "\n",
    "\n",
    "7 Detecting credit card fraud\r\n",
    "This is anomaly detectio\n",
    "\n",
    "8 Representing a complex, high-dimensional dataset in a clear and insightful\r\n",
    "diagram\r\n",
    "This is data visualization, often involving dimensionality reduction\r\n",
    "techniq\n",
    "\n",
    "\n",
    "9 Recommending a product that a client may be interested in, based on past\r\n",
    "purchases\r\n",
    "This is a recommender system. One approach is to feed past purchases\r\n",
    "(and other information about the client) to an artificial neural netw10), and get it to output the most likely next purchase. This\r\n",
    "neural net would typically be trained on past sequences of purchases\r\n",
    "across all c\n",
    "\n",
    "\n",
    "10 Building an intelligent bot for a game\r\n",
    "This is often tackled using Reinforcement Learning (RL; see\r\n",
    "Chapter 18), which is a branch of Machine Learning that trains agents\r\n",
    "(such as bots) to pick the actions that will maximize their rewards over\r\n",
    "time (e.g., a bot may get a reward every time the player loses some life\r\n",
    "points), within a given environment (such as the game). The famous\r\n",
    "AlphaGo program that beat the world champion at the game of Go was\r\n",
    "built using RL.lientsuesnerss.s.sl.\r",
    "rks"
   ]
  },
  {
   "cell_type": "code",
   "execution_count": null,
   "id": "bf29782a-f00a-4dec-ad9e-aaf1334d6d5b",
   "metadata": {},
   "outputs": [],
   "source": []
  }
 ],
 "metadata": {
  "kernelspec": {
   "display_name": "Python 3 (ipykernel)",
   "language": "python",
   "name": "python3"
  },
  "language_info": {
   "codemirror_mode": {
    "name": "ipython",
    "version": 3
   },
   "file_extension": ".py",
   "mimetype": "text/x-python",
   "name": "python",
   "nbconvert_exporter": "python",
   "pygments_lexer": "ipython3",
   "version": "3.11.4"
  }
 },
 "nbformat": 4,
 "nbformat_minor": 5
}
