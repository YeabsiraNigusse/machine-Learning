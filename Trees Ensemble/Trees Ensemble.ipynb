{
 "cells": [
  {
   "cell_type": "markdown",
   "id": "549f9083-a72d-44b7-9f40-3e277027cd51",
   "metadata": {},
   "source": [
    "### Trees Ensemble"
   ]
  },
  {
   "cell_type": "code",
   "execution_count": null,
   "id": "2cc3c143-9ee7-4e0d-be1c-b74e2b9f7bff",
   "metadata": {},
   "outputs": [],
   "source": []
  }
 ],
 "metadata": {
  "kernelspec": {
   "display_name": "Python 3 (ipykernel)",
   "language": "python",
   "name": "python3"
  },
  "language_info": {
   "codemirror_mode": {
    "name": "ipython",
    "version": 3
   },
   "file_extension": ".py",
   "mimetype": "text/x-python",
   "name": "python",
   "nbconvert_exporter": "python",
   "pygments_lexer": "ipython3",
   "version": "3.11.4"
  }
 },
 "nbformat": 4,
 "nbformat_minor": 5
}
